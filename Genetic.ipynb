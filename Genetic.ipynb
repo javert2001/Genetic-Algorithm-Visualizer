{
 "cells": [
  {
   "cell_type": "code",
   "execution_count": null,
   "id": "2fde2955",
   "metadata": {},
   "outputs": [
    {
     "name": "stdout",
     "output_type": "stream",
     "text": [
      " * Serving Flask app \"__main__\" (lazy loading)\n",
      " * Environment: production\n",
      "\u001b[31m   WARNING: This is a development server. Do not use it in a production deployment.\u001b[0m\n",
      "\u001b[2m   Use a production WSGI server instead.\u001b[0m\n",
      " * Debug mode: off\n"
     ]
    },
    {
     "name": "stderr",
     "output_type": "stream",
     "text": [
      " * Running on http://127.0.0.1:5000/ (Press CTRL+C to quit)\n"
     ]
    }
   ],
   "source": [
    "from flask import Flask, jsonify\n",
    "import numpy as np\n",
    "app = Flask(__name__)\n",
    "\n",
    "@app.route('/generation')\n",
    "def Generation():\n",
    "    generation = jsonify([np.ndarray.tolist(np.random.randint(2,size=16)) for i in range(16)])\n",
    "    print(generation)\n",
    "    \n",
    "    generation.headers.add('Access-Control-Allow-Origin', '*')\n",
    "    return generation\n",
    "app.run()\n"
   ]
  },
  {
   "cell_type": "code",
   "execution_count": null,
   "id": "26ec6c11",
   "metadata": {},
   "outputs": [],
   "source": []
  }
 ],
 "metadata": {
  "kernelspec": {
   "display_name": "Python 3 (ipykernel)",
   "language": "python",
   "name": "python3"
  },
  "language_info": {
   "codemirror_mode": {
    "name": "ipython",
    "version": 3
   },
   "file_extension": ".py",
   "mimetype": "text/x-python",
   "name": "python",
   "nbconvert_exporter": "python",
   "pygments_lexer": "ipython3",
   "version": "3.9.7"
  }
 },
 "nbformat": 4,
 "nbformat_minor": 5
}
